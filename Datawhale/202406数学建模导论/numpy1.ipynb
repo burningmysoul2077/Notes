{
 "cells": [
  {
   "cell_type": "markdown",
   "id": "d33762c8",
   "metadata": {},
   "source": [
    "# 创建向量和矩阵"
   ]
  },
  {
   "cell_type": "code",
   "execution_count": 4,
   "id": "e106f4c2",
   "metadata": {},
   "outputs": [],
   "source": [
    "import numpy as np\n",
    "# 创建向量\n",
    "v = np.array([1, 2, 3, 4, 5])\n",
    "# 创建矩阵\n",
    "m = np.array([[1,1],\n",
    "            [2,2],\n",
    "            [3,3],\n",
    "            [4, 5]])"
   ]
  },
  {
   "cell_type": "code",
   "execution_count": 5,
   "id": "b49c15f1",
   "metadata": {},
   "outputs": [
    {
     "data": {
      "text/plain": [
       "array([1, 2, 3, 4, 5])"
      ]
     },
     "execution_count": 5,
     "metadata": {},
     "output_type": "execute_result"
    }
   ],
   "source": [
    "v"
   ]
  },
  {
   "cell_type": "code",
   "execution_count": 6,
   "id": "0f3e9d0c",
   "metadata": {},
   "outputs": [
    {
     "data": {
      "text/plain": [
       "array([[1, 1],\n",
       "       [2, 2],\n",
       "       [3, 3],\n",
       "       [4, 5]])"
      ]
     },
     "execution_count": 6,
     "metadata": {},
     "output_type": "execute_result"
    }
   ],
   "source": [
    "m"
   ]
  },
  {
   "cell_type": "markdown",
   "id": "77b517c2",
   "metadata": {},
   "source": [
    "# 向量和矩阵的基本属性"
   ]
  },
  {
   "cell_type": "code",
   "execution_count": 11,
   "id": "f59d7fd0",
   "metadata": {},
   "outputs": [
    {
     "name": "stdout",
     "output_type": "stream",
     "text": [
      "向量v的维度： (5,)\n",
      "矩阵m的维度： (4, 2)\n",
      "矩阵m的行数： 4\n",
      "矩阵m的列数： 2\n"
     ]
    }
   ],
   "source": [
    "# 向量的维度\n",
    "print(f'向量v的维度：' ,v.shape)\n",
    "# 矩阵的维度\n",
    "print(f'矩阵m的维度：',m.shape)\n",
    "# 矩阵的行数和列数\n",
    "print(f'矩阵m的行数：', m.shape[0]) # 行数\n",
    "print(f'矩阵m的列数：', m.shape[1]) # 列数"
   ]
  },
  {
   "cell_type": "markdown",
   "id": "d79dfe2f",
   "metadata": {},
   "source": [
    "# 索引和切片"
   ]
  },
  {
   "cell_type": "code",
   "execution_count": 13,
   "id": "cab1abbc",
   "metadata": {},
   "outputs": [
    {
     "name": "stdout",
     "output_type": "stream",
     "text": [
      "向量v的第二个元素： 2\n",
      "矩阵m的第三行第一个元素： 3\n",
      "向量v的后三个元素： [3 4 5]\n",
      "矩阵m左上角的2x2子矩阵： [[1 1]\n",
      " [2 2]]\n"
     ]
    }
   ],
   "source": [
    "# 索引\n",
    "print(f'向量v的第二个元素：', v[1])\n",
    "print(f'矩阵m的第三行第一个元素：', m[2, 0])\n",
    "# 切片\n",
    "print(f'向量v的后三个元素：', v[-3:])\n",
    "print(f'矩阵m左上角的2x2子矩阵：', m[0:2, 0:2])"
   ]
  },
  {
   "cell_type": "markdown",
   "id": "3c85ee3b",
   "metadata": {},
   "source": [
    "# 向量和矩阵的运算"
   ]
  },
  {
   "cell_type": "code",
   "execution_count": 16,
   "id": "5f8e9f84",
   "metadata": {},
   "outputs": [
    {
     "name": "stdout",
     "output_type": "stream",
     "text": [
      "向量v1和v3相加： [3 5 7]\n",
      "矩阵m1和m3相乘： [[19 22]\n",
      " [43 50]]\n"
     ]
    }
   ],
   "source": [
    "# 向量加法\n",
    "v1 = np.array([1, 2, 3])\n",
    "v2 = np.array([2, 3])\n",
    "v3 = np.array([2, 3, 4])\n",
    "#print(np.add(v1, v2)) #向量维度不同，会报错\n",
    "print(f'向量v1和v3相加：',np.add(v1, v3))\n",
    "\n",
    "# 矩阵乘法\n",
    "m1 = np.array([[1, 2], [3, 4]])\n",
    "m2 = np.array([[5, 6], [7, 8]])\n",
    "print(f'矩阵m1和m3相乘：', np.dot(m1, m2))"
   ]
  },
  {
   "cell_type": "markdown",
   "id": "9f10a303",
   "metadata": {},
   "source": [
    "# 线性代数的基本运算"
   ]
  },
  {
   "cell_type": "code",
   "execution_count": 18,
   "id": "86a57de8",
   "metadata": {},
   "outputs": [
    {
     "name": "stdout",
     "output_type": "stream",
     "text": [
      "向量v： [1 2 3 4 5]\n",
      "向量v 乘以标量scalar： [ 5 10 15 20 25]\n"
     ]
    }
   ],
   "source": [
    "import numpy as np\n",
    "\n",
    "# 数量乘法示例\n",
    "scalar = 5 # 一个标量\n",
    "scalard_vector = scalar * v\n",
    "print(f'向量v：', v)\n",
    "print(f'向量v 乘以标量scalar：', scalard_vector)"
   ]
  },
  {
   "cell_type": "code",
   "execution_count": 19,
   "id": "5517fb1d",
   "metadata": {},
   "outputs": [
    {
     "name": "stdout",
     "output_type": "stream",
     "text": [
      "矩阵 m： [[1 1]\n",
      " [2 2]\n",
      " [3 3]\n",
      " [4 5]]\n",
      "矩阵m的转置： [[1 2 3 4]\n",
      " [1 2 3 5]]\n"
     ]
    }
   ],
   "source": [
    "# 矩阵的转置\n",
    "print(f'矩阵 m：', m)\n",
    "transposed_matrix = m.T\n",
    "print(f'矩阵m的转置：', transposed_matrix)"
   ]
  },
  {
   "cell_type": "code",
   "execution_count": 22,
   "id": "886a6760",
   "metadata": {},
   "outputs": [
    {
     "name": "stdout",
     "output_type": "stream",
     "text": [
      "矩阵m1： [[1 2]\n",
      " [3 4]]\n",
      "矩阵m1的行列式计算： -2.0000000000000004\n"
     ]
    }
   ],
   "source": [
    "# 计算行列式\n",
    "# m_determinant = np.linalg.det(m) # 不是方阵会报错\n",
    "print(f'矩阵m1：', m1)\n",
    "m1_determinant = np.linalg.det(m1)\n",
    "print(f'矩阵m1的行列式计算：', m1_determinant)"
   ]
  },
  {
   "cell_type": "code",
   "execution_count": 24,
   "id": "dd8390df",
   "metadata": {},
   "outputs": [
    {
     "name": "stdout",
     "output_type": "stream",
     "text": [
      "线性方程组的求解： [2. 3.]\n"
     ]
    }
   ],
   "source": [
    "# 求解线性方程组\n",
    "A = np.array([[3, 1], [1, 2]])\n",
    "b = np.array([9, 8])\n",
    "result = np.linalg.solve(A, b)\n",
    "print(f'线性方程组的求解：', result)"
   ]
  },
  {
   "cell_type": "markdown",
   "id": "7eb8abb4",
   "metadata": {},
   "source": [
    "# 计算逆矩阵"
   ]
  },
  {
   "cell_type": "code",
   "execution_count": null,
   "id": "a074dbad",
   "metadata": {},
   "outputs": [],
   "source": [
    "import numpy as np"
   ]
  },
  {
   "cell_type": "markdown",
   "id": "e34da71c",
   "metadata": {},
   "source": [
    "# 求线性方程(组)的数值解"
   ]
  },
  {
   "cell_type": "markdown",
   "id": "32585cda",
   "metadata": {},
   "source": [
    "## 有以下的方程组"
   ]
  },
  {
   "cell_type": "markdown",
   "id": "ea167e74",
   "metadata": {},
   "source": [
    "$\n",
    "\\begin{aligned}\n",
    "\t&10x-y-2z=72,\\\\\n",
    "\t&-x+10y-2z=83,\\\\\n",
    "    &-x-y+5z=42.\n",
    "\\end{aligned}\n",
    "$"
   ]
  },
  {
   "cell_type": "code",
   "execution_count": 25,
   "id": "a528e801",
   "metadata": {},
   "outputs": [
    {
     "name": "stdout",
     "output_type": "stream",
     "text": [
      "[[11.]\n",
      " [12.]\n",
      " [13.]]\n"
     ]
    }
   ],
   "source": [
    "a = np.array([[10, -1, -2], [-1, 10, -2], [-1, -1, 5]])\n",
    "b = np.array([[72], [83], [42]])\n",
    "c = np.linalg.solve(a, b)\n",
    "print(c)"
   ]
  },
  {
   "cell_type": "markdown",
   "id": "86cd7022",
   "metadata": {},
   "source": [
    "## 此外，还可以使用矩阵的逆来求解方程组"
   ]
  },
  {
   "cell_type": "code",
   "execution_count": 26,
   "id": "cd015816",
   "metadata": {},
   "outputs": [
    {
     "name": "stdout",
     "output_type": "stream",
     "text": [
      "[[11.]\n",
      " [12.]\n",
      " [13.]]\n"
     ]
    }
   ],
   "source": [
    "x = np.linalg.inv(a).dot(b)\n",
    "print(x)"
   ]
  },
  {
   "cell_type": "markdown",
   "id": "076f7244",
   "metadata": {},
   "source": [
    "## 利用 Sympy 求方程组的解析解"
   ]
  },
  {
   "cell_type": "code",
   "execution_count": 27,
   "id": "806097fa",
   "metadata": {},
   "outputs": [
    {
     "name": "stdout",
     "output_type": "stream",
     "text": [
      "[1]\n"
     ]
    }
   ],
   "source": [
    "from sympy import symbols, solve, nonlinsolve\n",
    "\n",
    "x, y = symbols('x y')\n",
    "print(solve(x * 2 - 2, x)) # 解方程 2x-2=0"
   ]
  },
  {
   "cell_type": "code",
   "execution_count": 28,
   "id": "bbec87b2",
   "metadata": {},
   "outputs": [
    {
     "name": "stdout",
     "output_type": "stream",
     "text": [
      "{x: 23, y: 12}\n"
     ]
    }
   ],
   "source": [
    "print(solve([x + y - 35, x * 2 + y * 4 - 94], x, y))  # 解方程组x + y = 35, 2x + 4y = 94"
   ]
  },
  {
   "cell_type": "code",
   "execution_count": 29,
   "id": "a6938846",
   "metadata": {},
   "outputs": [
    {
     "name": "stdout",
     "output_type": "stream",
     "text": [
      "[-5, 4]\n"
     ]
    }
   ],
   "source": [
    "print(solve(x**2 + x - 20, x))  # 解方程x^2 + x - 20 = 0"
   ]
  },
  {
   "cell_type": "code",
   "execution_count": 30,
   "id": "145459ec",
   "metadata": {},
   "outputs": [
    {
     "name": "stdout",
     "output_type": "stream",
     "text": [
      "{(-2, -2), (0, 0)}\n"
     ]
    }
   ],
   "source": [
    "a, b, c, d = symbols('a b c d', real=True)\n",
    "print(nonlinsolve([a**2 + a + b, a - b], [a, b]))  # 解非线性方程组a^2 + a + b = 0, a - b = 0"
   ]
  },
  {
   "cell_type": "code",
   "execution_count": null,
   "id": "8bd00853",
   "metadata": {},
   "outputs": [],
   "source": []
  }
 ],
 "metadata": {
  "kernelspec": {
   "display_name": "Python [conda env:llm]",
   "language": "python",
   "name": "conda-env-llm-py"
  },
  "language_info": {
   "codemirror_mode": {
    "name": "ipython",
    "version": 3
   },
   "file_extension": ".py",
   "mimetype": "text/x-python",
   "name": "python",
   "nbconvert_exporter": "python",
   "pygments_lexer": "ipython3",
   "version": "3.9.18"
  }
 },
 "nbformat": 4,
 "nbformat_minor": 5
}
