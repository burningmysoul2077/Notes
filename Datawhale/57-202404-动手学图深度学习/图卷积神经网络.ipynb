{
 "cells": [
  {
   "cell_type": "markdown",
   "id": "19586fff",
   "metadata": {},
   "source": [
    "# 图卷积神经网络\n",
    "\n",
    "- 将使用 PyTorch Geometric (PyG) 框架学习 GCN，应用于图分类任务。 "
   ]
  },
  {
   "cell_type": "markdown",
   "id": "ea0a7881",
   "metadata": {},
   "source": [
    "## 图分类\n",
    "\n",
    "\n",
    "- 图分类是指在给定图数据集的情况下，根据某些结构图属性对整个图进行分类的问题。\n",
    "- 图分类最常见的任务是分子属性预测，其中分子被表示为图，任务可能是推断分子是否抑制HIV病毒复制。"
   ]
  },
  {
   "cell_type": "markdown",
   "id": "32ea6a1a",
   "metadata": {},
   "source": [
    "- 多特蒙德工业大学收集了各种不同的图形分类数据集，称为 TUDatasets，可以通过 PyTorch Geometric 中的 torch_geometric.datasets.TUDataset 访问。 让我们加载并检查较小的数据集之一，即 MUTAG 数据集"
   ]
  },
  {
   "cell_type": "code",
   "execution_count": 2,
   "id": "8a708258",
   "metadata": {},
   "outputs": [
    {
     "name": "stderr",
     "output_type": "stream",
     "text": [
      "Downloading https://www.chrsmrrs.com/graphkerneldatasets/MUTAG.zip\n",
      "Processing...\n",
      "Done!\n"
     ]
    }
   ],
   "source": [
    "import torch\n",
    "from torch_geometric.datasets import TUDataset  #引入数据集\n",
    "\n",
    "dataset = TUDataset(root='data/TUDataset', name='MUTAG') # 加载数据集"
   ]
  },
  {
   "cell_type": "code",
   "execution_count": 3,
   "id": "fa939114",
   "metadata": {},
   "outputs": [
    {
     "name": "stdout",
     "output_type": "stream",
     "text": [
      "\n",
      "Dataset: MUTAG(188):\n",
      "====================\n",
      "Number of graphs: 188\n",
      "Number of features: 7\n",
      "Number of classes: 2\n"
     ]
    }
   ],
   "source": [
    "print()\n",
    "print(f'Dataset: {dataset}:')\n",
    "print('====================')\n",
    "print(f'Number of graphs: {len(dataset)}')\n",
    "print(f'Number of features: {dataset.num_features}')\n",
    "print(f'Number of classes: {dataset.num_classes}')"
   ]
  },
  {
   "cell_type": "code",
   "execution_count": 4,
   "id": "31ccfac9",
   "metadata": {},
   "outputs": [
    {
     "name": "stdout",
     "output_type": "stream",
     "text": [
      "\n",
      "Data(edge_index=[2, 38], x=[17, 7], edge_attr=[38, 4], y=[1])\n",
      "=============================================================\n"
     ]
    }
   ],
   "source": [
    "data = dataset[0] # 得到数据中的第一个图\n",
    "\n",
    "print()\n",
    "print(data)\n",
    "print('=============================================================')"
   ]
  },
  {
   "cell_type": "code",
   "execution_count": 5,
   "id": "1a4f7043",
   "metadata": {},
   "outputs": [
    {
     "name": "stdout",
     "output_type": "stream",
     "text": [
      "Number of nodes: 17\n",
      "Number of edges: 38\n",
      "Average node degree: 2.24\n",
      "Has isolated nodes: False\n",
      "Has self-loops: False\n",
      "Is undirected: True\n"
     ]
    }
   ],
   "source": [
    "# 获得图的一些统计特征\n",
    "print(f'Number of nodes: {data.num_nodes}')\n",
    "print(f'Number of edges: {data.num_edges}')\n",
    "print(f'Average node degree: {data.num_edges / data.num_nodes:.2f}')\n",
    "print(f'Has isolated nodes: {data.has_isolated_nodes()}')\n",
    "print(f'Has self-loops: {data.has_self_loops()}')\n",
    "print(f'Is undirected: {data.is_undirected()}')"
   ]
  },
  {
   "cell_type": "markdown",
   "id": "68c96ac6",
   "metadata": {},
   "source": [
    "-  根据以上，我们可以看出该数据集提供了 188 个不同的图，现在任务是将每个图分类为两类中的一类\n",
    "-  通过检查数据集的第一个图对象，我们可以看到它有 17 个节点（具有 7 维特征向量）和 38条边（平均节点度为2.24`），它还有一个标签 (y=[1])。\n",
    "-  除了之前的数据集之外，还提供了额外的 4 维边缘特征 (edge_attr=[38, 4])。 然而，为了简单起见，我们这次不会使用它们。"
   ]
  },
  {
   "cell_type": "markdown",
   "id": "a15c7563",
   "metadata": {},
   "source": [
    "-  PyTorch Geometric 提供了一些有用的实用程序来处理图数据集，例如，我们可以打乱数据集并使用前 150 个图作为训练图，同时使用剩余的图形进行测试"
   ]
  },
  {
   "cell_type": "code",
   "execution_count": 6,
   "id": "551de95c",
   "metadata": {},
   "outputs": [
    {
     "name": "stdout",
     "output_type": "stream",
     "text": [
      "Number of training graphs: 150\n",
      "Number of test graphs: 38\n"
     ]
    }
   ],
   "source": [
    "torch.manual_seed(12345)\n",
    "dataset = dataset.shuffle()\n",
    "\n",
    "train_dataset = dataset[:150]\n",
    "test_dataset = dataset[150:]\n",
    "\n",
    "print(f'Number of training graphs: {len(train_dataset)}')\n",
    "print(f'Number of test graphs: {len(test_dataset)}')"
   ]
  },
  {
   "cell_type": "markdown",
   "id": "dd6854c9",
   "metadata": {},
   "source": [
    "-  批处理对于图数据比较复杂和麻烦。\n",
    "-  PyTorch Geometric 选择了一种和常见图像数据集不同的方法来实现多个示例的并行化。 \n",
    "-  在这里，邻接矩阵以对角方式堆叠（创建一个包含多个孤立子图的巨型图），并且节点和目标特征在节点维度中简单地连接。\n",
    "-  与其他批处理程序相比，该程序具有一些关键优势：\n",
    "1. 依赖于消息传递方案的 GNN 算子不需要修改，因为属于不同图的两个节点之间不会交换消息；\n",
    "2. 由于邻接矩阵以稀疏方式保存，仅保存非零条目（即边），因此不存在计算或内存开销。"
   ]
  },
  {
   "cell_type": "markdown",
   "id": "087250bf",
   "metadata": {},
   "source": [
    "- PyTorch Geometric 在 torch_geometric.data.DataLoader 类的帮助下自动将多个图批处理为单个巨型图，我们并不需要手动进行上述的复杂步骤。"
   ]
  },
  {
   "cell_type": "code",
   "execution_count": 7,
   "id": "ffa3e057",
   "metadata": {},
   "outputs": [],
   "source": [
    "from torch_geometric.loader import DataLoader\n",
    "\n",
    "train_loader = DataLoader(train_dataset, batch_size=64, shuffle=True)\n",
    "test_loader = DataLoader(test_dataset, batch_size=64, shuffle=False)"
   ]
  },
  {
   "cell_type": "markdown",
   "id": "327ae92c",
   "metadata": {},
   "source": [
    "-  在这里，我们选择 batch_size 为 64，从而产生 3 个（随机洗牌）小批量，包含所有 2⋅64+22=150 个图。"
   ]
  },
  {
   "cell_type": "markdown",
   "id": "d53b5442",
   "metadata": {},
   "source": [
    "## 训练 GNN 进行图分类通常遵循一个简单的方法\n",
    "\n",
    "- 通过执行多轮消息传递来嵌入每个节点。\n",
    "- 将节点嵌入聚合为统一的图嵌入（读出层）。\n",
    "- 在图嵌入上训练最终分类器。"
   ]
  },
  {
   "cell_type": "markdown",
   "id": "8ebec0e3",
   "metadata": {},
   "source": [
    "- 对于整图分类，我们需要一个**读出层（readout layer）**，但最常见的一种是简单地取节点嵌入的平均值：\n",
    "$$\n",
    "x_{out}= \\frac{1}{|V|}\\sum_{v \\in V} x^{(L)}_v\n",
    "$$\n",
    "\n",
    "- PyTorch Geometric 通过 `torch_geometric.nn.global_mean_pool` 提供此功能，它接受小批量中所有节点的节点嵌入和分配向量批量，以计算批量中每个图的大小为 `[batch_size, hide_channels]` 的图嵌入。也就是说，我们在这里不需要考虑批大小。\n"
   ]
  },
  {
   "cell_type": "markdown",
   "id": "dfc9950a",
   "metadata": {},
   "source": [
    "- 将 GNN 应用到图分类任务的最终架构如下所示，并允许**完整的端到端训练**"
   ]
  },
  {
   "cell_type": "code",
   "execution_count": 9,
   "id": "70146897",
   "metadata": {},
   "outputs": [
    {
     "name": "stdout",
     "output_type": "stream",
     "text": [
      "GCN(\n",
      "  (conv1): GCNConv(7, 64)\n",
      "  (conv2): GCNConv(64, 64)\n",
      "  (conv3): GCNConv(64, 64)\n",
      "  (lin): Linear(in_features=64, out_features=2, bias=True)\n",
      ")\n"
     ]
    }
   ],
   "source": [
    "from torch.nn import Linear\n",
    "import torch.nn.functional as F\n",
    "from torch_geometric.nn import GCNConv\n",
    "from torch_geometric.nn import global_mean_pool\n",
    "\n",
    "class GCN(torch.nn.Module):\n",
    "    def __init__(self, hidden_channels):\n",
    "        super(GCN, self).__init__()\n",
    "        torch.manual_seed(12345)\n",
    "        # 使用 GCNConv \n",
    "        # 为了让模型更稳定我们也可以使用带有跳跃链接的 GraphConv\n",
    "        # from torch_geometric.nn import GraphConv\n",
    "        self.conv1 = GCNConv(dataset.num_node_features, hidden_channels)\n",
    "        self.conv2 = GCNConv(hidden_channels, hidden_channels)\n",
    "        self.conv3 = GCNConv(hidden_channels, hidden_channels)\n",
    "        self.lin = Linear(hidden_channels, dataset.num_classes)\n",
    "        \n",
    "    def forward(self, x, edge_index, batch):\n",
    "        # 1. 获得节点的嵌入\n",
    "        x = self.conv1(x, edge_index)\n",
    "        x = x.relu()\n",
    "        x = self.conv2(x, edge_index)\n",
    "        x = x.relu()\n",
    "        x = self.conv3(x, edge_index)\n",
    "\n",
    "        # 2. 读出层\n",
    "        x = global_mean_pool(x, batch)  # [batch_size, hidden_channels]\n",
    "\n",
    "        # 3. 应用最后的分类器\n",
    "        x = F.dropout(x, p=0.5, training=self.training)\n",
    "        x = self.lin(x)\n",
    "        \n",
    "        return x\n",
    "\n",
    "model = GCN(hidden_channels=64)\n",
    "print(model)"
   ]
  },
  {
   "cell_type": "markdown",
   "id": "3bded0bd",
   "metadata": {},
   "source": [
    "-  在这里，我们再次使用 GCNConv 和 ReLU(x)=max(x,0) 激活来获得局部节点嵌入，然后再将最终分类器应用到图读出层之上。\n",
    "\n",
    "- 让我们训练我们的网络几个周期，看看它在训练和测试集上的表现如何"
   ]
  },
  {
   "cell_type": "code",
   "execution_count": 10,
   "id": "f65b0225",
   "metadata": {},
   "outputs": [
    {
     "data": {
      "application/javascript": [
       "google.colab.output.setIframeHeight(0, true, {maxHeight: 300})"
      ],
      "text/plain": [
       "<IPython.core.display.Javascript object>"
      ]
     },
     "metadata": {},
     "output_type": "display_data"
    },
    {
     "name": "stdout",
     "output_type": "stream",
     "text": [
      "Epoch: 001, Train Acc: 0.6467, Test Acc: 0.7368\n",
      "Epoch: 002, Train Acc: 0.6467, Test Acc: 0.7368\n",
      "Epoch: 003, Train Acc: 0.6467, Test Acc: 0.7368\n",
      "Epoch: 004, Train Acc: 0.6467, Test Acc: 0.7368\n",
      "Epoch: 005, Train Acc: 0.6467, Test Acc: 0.7368\n",
      "Epoch: 006, Train Acc: 0.6533, Test Acc: 0.7368\n",
      "Epoch: 007, Train Acc: 0.7467, Test Acc: 0.7632\n",
      "Epoch: 008, Train Acc: 0.7267, Test Acc: 0.7632\n",
      "Epoch: 009, Train Acc: 0.7200, Test Acc: 0.7632\n",
      "Epoch: 010, Train Acc: 0.7133, Test Acc: 0.7895\n",
      "Epoch: 011, Train Acc: 0.7200, Test Acc: 0.7632\n",
      "Epoch: 012, Train Acc: 0.7200, Test Acc: 0.7895\n",
      "Epoch: 013, Train Acc: 0.7200, Test Acc: 0.7895\n",
      "Epoch: 014, Train Acc: 0.7133, Test Acc: 0.8421\n",
      "Epoch: 015, Train Acc: 0.7133, Test Acc: 0.8421\n",
      "Epoch: 016, Train Acc: 0.7533, Test Acc: 0.7368\n",
      "Epoch: 017, Train Acc: 0.7400, Test Acc: 0.7632\n",
      "Epoch: 018, Train Acc: 0.7133, Test Acc: 0.8421\n",
      "Epoch: 019, Train Acc: 0.7400, Test Acc: 0.7895\n",
      "Epoch: 020, Train Acc: 0.7533, Test Acc: 0.7368\n",
      "Epoch: 021, Train Acc: 0.7467, Test Acc: 0.7895\n",
      "Epoch: 022, Train Acc: 0.7467, Test Acc: 0.7895\n",
      "Epoch: 023, Train Acc: 0.7533, Test Acc: 0.7895\n",
      "Epoch: 024, Train Acc: 0.7267, Test Acc: 0.8421\n",
      "Epoch: 025, Train Acc: 0.7533, Test Acc: 0.7632\n",
      "Epoch: 026, Train Acc: 0.7533, Test Acc: 0.7632\n",
      "Epoch: 027, Train Acc: 0.7600, Test Acc: 0.8158\n",
      "Epoch: 028, Train Acc: 0.7533, Test Acc: 0.8421\n",
      "Epoch: 029, Train Acc: 0.7600, Test Acc: 0.7632\n",
      "Epoch: 030, Train Acc: 0.7600, Test Acc: 0.8158\n",
      "Epoch: 031, Train Acc: 0.7600, Test Acc: 0.8158\n",
      "Epoch: 032, Train Acc: 0.7600, Test Acc: 0.7632\n",
      "Epoch: 033, Train Acc: 0.7667, Test Acc: 0.7632\n",
      "Epoch: 034, Train Acc: 0.7667, Test Acc: 0.7895\n",
      "Epoch: 035, Train Acc: 0.7667, Test Acc: 0.7895\n",
      "Epoch: 036, Train Acc: 0.7667, Test Acc: 0.7632\n",
      "Epoch: 037, Train Acc: 0.7400, Test Acc: 0.7632\n",
      "Epoch: 038, Train Acc: 0.7667, Test Acc: 0.8158\n",
      "Epoch: 039, Train Acc: 0.7667, Test Acc: 0.7895\n",
      "Epoch: 040, Train Acc: 0.7533, Test Acc: 0.7368\n",
      "Epoch: 041, Train Acc: 0.7467, Test Acc: 0.7368\n",
      "Epoch: 042, Train Acc: 0.7667, Test Acc: 0.7895\n",
      "Epoch: 043, Train Acc: 0.7667, Test Acc: 0.8158\n",
      "Epoch: 044, Train Acc: 0.7533, Test Acc: 0.7632\n",
      "Epoch: 045, Train Acc: 0.7600, Test Acc: 0.7632\n",
      "Epoch: 046, Train Acc: 0.7600, Test Acc: 0.7632\n",
      "Epoch: 047, Train Acc: 0.7667, Test Acc: 0.8158\n",
      "Epoch: 048, Train Acc: 0.7600, Test Acc: 0.7632\n",
      "Epoch: 049, Train Acc: 0.7667, Test Acc: 0.7632\n",
      "Epoch: 050, Train Acc: 0.7667, Test Acc: 0.8158\n",
      "Epoch: 051, Train Acc: 0.7733, Test Acc: 0.7895\n",
      "Epoch: 052, Train Acc: 0.7733, Test Acc: 0.8158\n",
      "Epoch: 053, Train Acc: 0.7667, Test Acc: 0.7632\n",
      "Epoch: 054, Train Acc: 0.7667, Test Acc: 0.7632\n",
      "Epoch: 055, Train Acc: 0.7800, Test Acc: 0.7895\n",
      "Epoch: 056, Train Acc: 0.7667, Test Acc: 0.7632\n",
      "Epoch: 057, Train Acc: 0.7533, Test Acc: 0.7632\n",
      "Epoch: 058, Train Acc: 0.7733, Test Acc: 0.7895\n",
      "Epoch: 059, Train Acc: 0.7800, Test Acc: 0.7632\n",
      "Epoch: 060, Train Acc: 0.7733, Test Acc: 0.8158\n",
      "Epoch: 061, Train Acc: 0.7667, Test Acc: 0.7632\n",
      "Epoch: 062, Train Acc: 0.7733, Test Acc: 0.8158\n",
      "Epoch: 063, Train Acc: 0.7733, Test Acc: 0.8158\n",
      "Epoch: 064, Train Acc: 0.7733, Test Acc: 0.8158\n",
      "Epoch: 065, Train Acc: 0.7733, Test Acc: 0.8158\n",
      "Epoch: 066, Train Acc: 0.7733, Test Acc: 0.7895\n",
      "Epoch: 067, Train Acc: 0.7733, Test Acc: 0.7895\n",
      "Epoch: 068, Train Acc: 0.7667, Test Acc: 0.7895\n",
      "Epoch: 069, Train Acc: 0.7733, Test Acc: 0.8158\n",
      "Epoch: 070, Train Acc: 0.7667, Test Acc: 0.7895\n",
      "Epoch: 071, Train Acc: 0.7733, Test Acc: 0.7895\n",
      "Epoch: 072, Train Acc: 0.7800, Test Acc: 0.7895\n",
      "Epoch: 073, Train Acc: 0.7733, Test Acc: 0.8158\n",
      "Epoch: 074, Train Acc: 0.7733, Test Acc: 0.8158\n",
      "Epoch: 075, Train Acc: 0.7667, Test Acc: 0.7632\n",
      "Epoch: 076, Train Acc: 0.7800, Test Acc: 0.7895\n",
      "Epoch: 077, Train Acc: 0.7800, Test Acc: 0.7895\n",
      "Epoch: 078, Train Acc: 0.7733, Test Acc: 0.8421\n",
      "Epoch: 079, Train Acc: 0.7667, Test Acc: 0.8158\n",
      "Epoch: 080, Train Acc: 0.7800, Test Acc: 0.7895\n",
      "Epoch: 081, Train Acc: 0.7667, Test Acc: 0.7895\n",
      "Epoch: 082, Train Acc: 0.7600, Test Acc: 0.7632\n",
      "Epoch: 083, Train Acc: 0.7800, Test Acc: 0.7895\n",
      "Epoch: 084, Train Acc: 0.7733, Test Acc: 0.7895\n",
      "Epoch: 085, Train Acc: 0.7667, Test Acc: 0.7895\n",
      "Epoch: 086, Train Acc: 0.7800, Test Acc: 0.8158\n",
      "Epoch: 087, Train Acc: 0.7667, Test Acc: 0.7895\n",
      "Epoch: 088, Train Acc: 0.7800, Test Acc: 0.7895\n",
      "Epoch: 089, Train Acc: 0.7667, Test Acc: 0.7895\n",
      "Epoch: 090, Train Acc: 0.7800, Test Acc: 0.7895\n",
      "Epoch: 091, Train Acc: 0.7800, Test Acc: 0.7895\n",
      "Epoch: 092, Train Acc: 0.7800, Test Acc: 0.8158\n",
      "Epoch: 093, Train Acc: 0.7800, Test Acc: 0.7895\n",
      "Epoch: 094, Train Acc: 0.7733, Test Acc: 0.7895\n",
      "Epoch: 095, Train Acc: 0.7800, Test Acc: 0.7895\n",
      "Epoch: 096, Train Acc: 0.7600, Test Acc: 0.7895\n",
      "Epoch: 097, Train Acc: 0.7733, Test Acc: 0.7895\n",
      "Epoch: 098, Train Acc: 0.7733, Test Acc: 0.8158\n",
      "Epoch: 099, Train Acc: 0.7733, Test Acc: 0.7895\n",
      "Epoch: 100, Train Acc: 0.7733, Test Acc: 0.7895\n",
      "Epoch: 101, Train Acc: 0.7667, Test Acc: 0.7895\n",
      "Epoch: 102, Train Acc: 0.7667, Test Acc: 0.7895\n",
      "Epoch: 103, Train Acc: 0.7733, Test Acc: 0.7895\n",
      "Epoch: 104, Train Acc: 0.7600, Test Acc: 0.7632\n",
      "Epoch: 105, Train Acc: 0.7733, Test Acc: 0.7368\n",
      "Epoch: 106, Train Acc: 0.7600, Test Acc: 0.7632\n",
      "Epoch: 107, Train Acc: 0.7733, Test Acc: 0.7105\n",
      "Epoch: 108, Train Acc: 0.8000, Test Acc: 0.7632\n",
      "Epoch: 109, Train Acc: 0.7800, Test Acc: 0.7895\n",
      "Epoch: 110, Train Acc: 0.7733, Test Acc: 0.7632\n",
      "Epoch: 111, Train Acc: 0.7733, Test Acc: 0.7895\n",
      "Epoch: 112, Train Acc: 0.7733, Test Acc: 0.7895\n",
      "Epoch: 113, Train Acc: 0.7667, Test Acc: 0.7895\n",
      "Epoch: 114, Train Acc: 0.7733, Test Acc: 0.7895\n",
      "Epoch: 115, Train Acc: 0.7667, Test Acc: 0.7895\n",
      "Epoch: 116, Train Acc: 0.7733, Test Acc: 0.7632\n",
      "Epoch: 117, Train Acc: 0.7733, Test Acc: 0.7895\n",
      "Epoch: 118, Train Acc: 0.7733, Test Acc: 0.7632\n",
      "Epoch: 119, Train Acc: 0.7667, Test Acc: 0.7632\n",
      "Epoch: 120, Train Acc: 0.8000, Test Acc: 0.7105\n",
      "Epoch: 121, Train Acc: 0.7600, Test Acc: 0.7632\n",
      "Epoch: 122, Train Acc: 0.7667, Test Acc: 0.7105\n",
      "Epoch: 123, Train Acc: 0.7667, Test Acc: 0.7632\n",
      "Epoch: 124, Train Acc: 0.7667, Test Acc: 0.7632\n",
      "Epoch: 125, Train Acc: 0.7667, Test Acc: 0.7632\n",
      "Epoch: 126, Train Acc: 0.7733, Test Acc: 0.7368\n",
      "Epoch: 127, Train Acc: 0.7733, Test Acc: 0.7632\n",
      "Epoch: 128, Train Acc: 0.7733, Test Acc: 0.7632\n",
      "Epoch: 129, Train Acc: 0.7733, Test Acc: 0.7632\n",
      "Epoch: 130, Train Acc: 0.7733, Test Acc: 0.7632\n",
      "Epoch: 131, Train Acc: 0.7667, Test Acc: 0.7632\n",
      "Epoch: 132, Train Acc: 0.7800, Test Acc: 0.7895\n",
      "Epoch: 133, Train Acc: 0.7733, Test Acc: 0.7632\n",
      "Epoch: 134, Train Acc: 0.7667, Test Acc: 0.7632\n",
      "Epoch: 135, Train Acc: 0.8067, Test Acc: 0.7368\n",
      "Epoch: 136, Train Acc: 0.7800, Test Acc: 0.7632\n",
      "Epoch: 137, Train Acc: 0.7733, Test Acc: 0.7632\n",
      "Epoch: 138, Train Acc: 0.8133, Test Acc: 0.7105\n",
      "Epoch: 139, Train Acc: 0.7867, Test Acc: 0.7632\n",
      "Epoch: 140, Train Acc: 0.7800, Test Acc: 0.7895\n",
      "Epoch: 141, Train Acc: 0.8000, Test Acc: 0.6579\n",
      "Epoch: 142, Train Acc: 0.7733, Test Acc: 0.7632\n",
      "Epoch: 143, Train Acc: 0.7933, Test Acc: 0.7632\n",
      "Epoch: 144, Train Acc: 0.7867, Test Acc: 0.7368\n",
      "Epoch: 145, Train Acc: 0.8267, Test Acc: 0.7368\n",
      "Epoch: 146, Train Acc: 0.7667, Test Acc: 0.7895\n",
      "Epoch: 147, Train Acc: 0.7800, Test Acc: 0.7105\n",
      "Epoch: 148, Train Acc: 0.7933, Test Acc: 0.7895\n",
      "Epoch: 149, Train Acc: 0.8200, Test Acc: 0.7105\n",
      "Epoch: 150, Train Acc: 0.7800, Test Acc: 0.7895\n",
      "Epoch: 151, Train Acc: 0.7800, Test Acc: 0.7632\n",
      "Epoch: 152, Train Acc: 0.7867, Test Acc: 0.7632\n",
      "Epoch: 153, Train Acc: 0.8067, Test Acc: 0.7368\n",
      "Epoch: 154, Train Acc: 0.8067, Test Acc: 0.7368\n",
      "Epoch: 155, Train Acc: 0.7867, Test Acc: 0.7632\n",
      "Epoch: 156, Train Acc: 0.7800, Test Acc: 0.7105\n",
      "Epoch: 157, Train Acc: 0.8000, Test Acc: 0.7368\n",
      "Epoch: 158, Train Acc: 0.7800, Test Acc: 0.7368\n",
      "Epoch: 159, Train Acc: 0.7867, Test Acc: 0.7632\n",
      "Epoch: 160, Train Acc: 0.7867, Test Acc: 0.7632\n",
      "Epoch: 161, Train Acc: 0.7867, Test Acc: 0.7632\n",
      "Epoch: 162, Train Acc: 0.7933, Test Acc: 0.7632\n",
      "Epoch: 163, Train Acc: 0.7933, Test Acc: 0.7632\n",
      "Epoch: 164, Train Acc: 0.7867, Test Acc: 0.8158\n",
      "Epoch: 165, Train Acc: 0.7800, Test Acc: 0.8158\n",
      "Epoch: 166, Train Acc: 0.7733, Test Acc: 0.7632\n",
      "Epoch: 167, Train Acc: 0.7733, Test Acc: 0.7632\n",
      "Epoch: 168, Train Acc: 0.7800, Test Acc: 0.7632\n",
      "Epoch: 169, Train Acc: 0.8000, Test Acc: 0.7632\n",
      "Epoch: 170, Train Acc: 0.7933, Test Acc: 0.7632\n"
     ]
    }
   ],
   "source": [
    "from IPython.display import Javascript\n",
    "display(Javascript('''google.colab.output.setIframeHeight(0, true, {maxHeight: 300})'''))\n",
    "\n",
    "model = GCN(hidden_channels=64)\n",
    "optimizer = torch.optim.Adam(model.parameters(), lr=0.01)\n",
    "criterion = torch.nn.CrossEntropyLoss()\n",
    "\n",
    "def train():\n",
    "    model.train()\n",
    "\n",
    "    for data in train_loader:  # 迭代获得各个批数据\n",
    "         out = model(data.x, data.edge_index, data.batch)  # 前向传播\n",
    "         loss = criterion(out, data.y)  # 计算损失\n",
    "         loss.backward()  # 反向传播\n",
    "         optimizer.step()  # 参数更新\n",
    "         optimizer.zero_grad()  # 梯度清零\n",
    "\n",
    "def test(loader):\n",
    "     model.eval()\n",
    "\n",
    "     correct = 0\n",
    "     for data in loader:  # 迭代获得各个批数据\n",
    "         out = model(data.x, data.edge_index, data.batch)  \n",
    "         pred = out.argmax(dim=1)  # 取最大概率的类作为预测\n",
    "         correct += int((pred == data.y).sum())  # 与真实标签做比较\n",
    "     return correct / len(loader.dataset)  # 计算准确率\n",
    "\n",
    "\n",
    "for epoch in range(1, 171):\n",
    "    train()\n",
    "    train_acc = test(train_loader)\n",
    "    test_acc = test(test_loader)\n",
    "    print(f'Epoch: {epoch:03d}, Train Acc: {train_acc:.4f}, Test Acc: {test_acc:.4f}')\n"
   ]
  },
  {
   "cell_type": "markdown",
   "id": "8416ee9e",
   "metadata": {},
   "source": [
    "- 可以看到，我们的模型达到了 76% 左右的测试准确率。 准确率波动的原因可以用相当小的数据集（只有 38 个测试图）来解释，并且一旦将 GNN 应用到更大的数据集，通常就会消失。"
   ]
  },
  {
   "cell_type": "code",
   "execution_count": null,
   "id": "f1ee87ae",
   "metadata": {},
   "outputs": [],
   "source": []
  }
 ],
 "metadata": {
  "kernelspec": {
   "display_name": "Python [conda env:llm]",
   "language": "python",
   "name": "conda-env-llm-py"
  },
  "language_info": {
   "codemirror_mode": {
    "name": "ipython",
    "version": 3
   },
   "file_extension": ".py",
   "mimetype": "text/x-python",
   "name": "python",
   "nbconvert_exporter": "python",
   "pygments_lexer": "ipython3",
   "version": "3.9.18"
  }
 },
 "nbformat": 4,
 "nbformat_minor": 5
}
