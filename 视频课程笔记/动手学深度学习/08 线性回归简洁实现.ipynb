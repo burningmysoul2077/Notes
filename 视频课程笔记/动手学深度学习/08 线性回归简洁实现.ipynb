{
 "cells": [
  {
   "cell_type": "markdown",
   "id": "e0b9d80e",
   "metadata": {},
   "source": [
    "## 线性回归的简洁实现\n",
    "\n",
    "- 通过使用深度学习框架来简洁地实现 线性回归模型 生成数据集\n",
    "- 使用pytorch的nn module 及 数据预处理模块"
   ]
  },
  {
   "cell_type": "code",
   "execution_count": 1,
   "id": "a7a7ec61",
   "metadata": {},
   "outputs": [],
   "source": [
    "# 导入工具包\n",
    "import numpy as np\n",
    "import torch\n",
    "from torch.utils import data  # 数据处理包\n",
    "from d2l import torch as d2l"
   ]
  },
  {
   "cell_type": "code",
   "execution_count": 5,
   "id": "a241d20e",
   "metadata": {},
   "outputs": [],
   "source": [
    "true_w = torch.tensor([2, -3.4])\n",
    "true_b = 4.2\n",
    "features, labels = d2l.synthetic_data(true_w, true_b, 1000)"
   ]
  },
  {
   "cell_type": "markdown",
   "id": "ac718093",
   "metadata": {},
   "source": [
    "### 调用框架中现有的API来读取数据"
   ]
  },
  {
   "cell_type": "code",
   "execution_count": 6,
   "id": "45530eba",
   "metadata": {},
   "outputs": [
    {
     "data": {
      "text/plain": [
       "[tensor([[-0.5482, -2.2417],\n",
       "         [-0.1411,  1.8357],\n",
       "         [ 1.1583,  0.4196],\n",
       "         [ 0.2179,  0.3887],\n",
       "         [-0.0920,  1.4153],\n",
       "         [ 0.2690, -1.5231],\n",
       "         [ 0.5779, -0.9576],\n",
       "         [ 0.5284, -0.8330],\n",
       "         [-0.5534,  0.2808],\n",
       "         [-1.4085, -1.3706]]),\n",
       " tensor([[10.7314],\n",
       "         [-2.3108],\n",
       "         [ 5.0895],\n",
       "         [ 3.3191],\n",
       "         [-0.7862],\n",
       "         [ 9.9124],\n",
       "         [ 8.6211],\n",
       "         [ 8.0891],\n",
       "         [ 2.1417],\n",
       "         [ 6.0319]])]"
      ]
     },
     "execution_count": 6,
     "metadata": {},
     "output_type": "execute_result"
    }
   ],
   "source": [
    "def load_array(data_arrays, batch_size, is_train=True):\n",
    "    \"\"\"构造一个PyTorch数据迭代器\"\"\"\n",
    "    dataset = data.TensorDataset(*data_arrays)\n",
    "    return data.DataLoader(dataset, batch_size, shuffle=is_train) # 每次随机挑选batchsize个样本\n",
    "\n",
    "batch_size = 10\n",
    "data_iter = load_array((features, labels), batch_size)  # (features, labels) 作为一个list\n",
    "\n",
    "\"\"\"\n",
    "next() 返回迭代器的下一个项目\n",
    "next() 函数要和生成迭代器的iter() 函数一起使用\n",
    "\n",
    "list、tuple等都是可迭代对象，通过iter()函数获取这些可迭代对象的迭代器\n",
    "然后，对获取到的迭代器不断使⽤next()函数来获取下⼀条数据\n",
    "iter()函数实际上就是调⽤了可迭代对象的 iter ⽅法\n",
    "\"\"\"\n",
    "next(iter(data_iter))"
   ]
  },
  {
   "cell_type": "markdown",
   "id": "e70d2594",
   "metadata": {},
   "source": [
    "### 定义模型\n",
    "\n",
    "- 对于标准深度学习模型, **使用框架的预定义好的层**\n",
    "- 这使我们只需关注使用哪些层来构造模型，而不必关注层的实现细节"
   ]
  },
  {
   "cell_type": "code",
   "execution_count": 8,
   "id": "b1861170",
   "metadata": {},
   "outputs": [],
   "source": [
    "# nn是神经网络的缩写\n",
    "from torch import nn\n",
    "\n",
    "\"\"\"\n",
    "Sequential类将多个层串联在一起 list of layers\n",
    "当给定输入数据时，Sequential实例将数据传入到第一层， 然后将第一层的输出作为第二层的输入，以此类推\n",
    "在下面的例子中，我们的模型只包含一个层，因此实际上不需要Sequential\n",
    "但是由于以后几乎所有的模型都是多层的，在这里使用Sequential会让你熟悉“标准的流水线”。\n",
    "\"\"\"\n",
    "net = nn.Sequential(nn.Linear(2, 1)) # 输入为2，输出为1"
   ]
  },
  {
   "cell_type": "markdown",
   "id": "4fbadddb",
   "metadata": {},
   "source": [
    "### 初始化模型参数"
   ]
  },
  {
   "cell_type": "code",
   "execution_count": 9,
   "id": "0be125b8",
   "metadata": {},
   "outputs": [
    {
     "data": {
      "text/plain": [
       "tensor([0.])"
      ]
     },
     "execution_count": 9,
     "metadata": {},
     "output_type": "execute_result"
    }
   ],
   "source": [
    "net[0].weight.data.normal_(0, 0.01)  # net[0] 对应第一层\n",
    "net[0].bias.data.fill_(0)            # 使用替换方法normal_和fill_来重写参数值"
   ]
  },
  {
   "cell_type": "markdown",
   "id": "720e77d8",
   "metadata": {},
   "source": [
    "### 定义损失函数\n",
    "\n",
    "- 计算均方误差使用的是MSELoss类，也称为平方𝐿2范数"
   ]
  },
  {
   "cell_type": "code",
   "execution_count": 10,
   "id": "0ab9b6c8",
   "metadata": {},
   "outputs": [],
   "source": [
    "loss = nn.MSELoss()"
   ]
  },
  {
   "cell_type": "markdown",
   "id": "378d25f2",
   "metadata": {},
   "source": [
    "### 实例化 SGD 实例"
   ]
  },
  {
   "cell_type": "code",
   "execution_count": 11,
   "id": "9d4b72a2",
   "metadata": {},
   "outputs": [],
   "source": [
    "trainer = torch.optim.SGD(net.parameters(), lr=0.03)  # net.parameters所有参数  0.03学习率"
   ]
  },
  {
   "cell_type": "markdown",
   "id": "3a7808a7",
   "metadata": {},
   "source": [
    "### 训练"
   ]
  },
  {
   "cell_type": "code",
   "execution_count": 16,
   "id": "08bb715a",
   "metadata": {},
   "outputs": [
    {
     "name": "stdout",
     "output_type": "stream",
     "text": [
      "epoch 1, loss 0.000098\n",
      "epoch 2, loss 0.000097\n",
      "epoch 3, loss 0.000097\n"
     ]
    }
   ],
   "source": [
    "num_epochs = 3\n",
    "for epoch in range(num_epochs):\n",
    "    for X, y in data_iter:\n",
    "        l = loss(net(X), y)\n",
    "        trainer.zero_grad()\n",
    "        l.backward()\n",
    "        trainer.step()\n",
    "    l = loss(net(features), labels)\n",
    "    print(f'epoch {epoch + 1}, loss {l:f}')"
   ]
  },
  {
   "cell_type": "markdown",
   "id": "63e2bde8",
   "metadata": {},
   "source": [
    "### 比较生成数据集的真实参数和通过有限数据训练获得的模型参数"
   ]
  },
  {
   "cell_type": "code",
   "execution_count": 17,
   "id": "926d60f8",
   "metadata": {},
   "outputs": [
    {
     "name": "stdout",
     "output_type": "stream",
     "text": [
      "w的估计误差： tensor([-0.0003,  0.0005])\n",
      "b的估计误差： tensor([-0.0007])\n"
     ]
    }
   ],
   "source": [
    "w = net[0].weight.data\n",
    "print('w的估计误差：', true_w - w.reshape(true_w.shape))\n",
    "b = net[0].bias.data\n",
    "print('b的估计误差：', true_b - b)"
   ]
  },
  {
   "cell_type": "code",
   "execution_count": null,
   "id": "cc357e7f",
   "metadata": {},
   "outputs": [],
   "source": []
  }
 ],
 "metadata": {
  "kernelspec": {
   "display_name": "ame",
   "language": "python",
   "name": "ame"
  },
  "language_info": {
   "codemirror_mode": {
    "name": "ipython",
    "version": 3
   },
   "file_extension": ".py",
   "mimetype": "text/x-python",
   "name": "python",
   "nbconvert_exporter": "python",
   "pygments_lexer": "ipython3",
   "version": "3.9.12"
  }
 },
 "nbformat": 4,
 "nbformat_minor": 5
}
